{
 "cells": [
  {
   "cell_type": "markdown",
   "id": "67a0ba8a-73f6-454b-8fdd-320e5740e867",
   "metadata": {},
   "source": [
    "# TikTok project: detect claims and opinions"
   ]
  },
  {
   "cell_type": "markdown",
   "id": "f0b36146-fff4-40d0-9899-ce6e24ac79c8",
   "metadata": {},
   "source": [
    "This notebook includes all the end-of-course projects from the *Google Advanced Data Analytics certificate*. We emulate a real-world scenario where a data scientist from a company applies their knowledge to solve a technological challenge using statistics and machine learning."
   ]
  },
  {
   "cell_type": "markdown",
   "id": "76ad138f-6264-4596-927a-04dd235216c5",
   "metadata": {},
   "source": [
    "## Background\n",
    "\n",
    "Consider the following terms:\n",
    "- a **claim** is something you propose to be true based on a certain argument or line of evidence. \n",
    "- an **opinion** is something you believe innately and is necessarily not open to proof or disproof. \n",
    "\n",
    "With this in mind, TikTok users have the ability to submit reports that identify videos and comments that contain user claims. These reports identify content that needs to be reviewed by moderators. The process generates a large number of user reports that are challenging to consider in a timely manner. \n",
    "\n",
    "TikTok is working on the development of **a predictive model that can determine whether a video contains a claim or offers an opinion**. With a successful prediction model, TikTok can reduce the backlog of user reports and prioritize them more efficiently."
   ]
  },
  {
   "cell_type": "markdown",
   "id": "46a13b2e-cedd-4093-8c89-e3356d30e273",
   "metadata": {},
   "source": [
    "## Imports"
   ]
  },
  {
   "cell_type": "code",
   "execution_count": 1,
   "id": "e23e5eea-17e2-490d-95c2-69e90ecd531b",
   "metadata": {
    "tags": []
   },
   "outputs": [],
   "source": [
    "import numpy as np\n",
    "import pandas as pd\n",
    "import seaborn as sns\n",
    "from scipy import stats\n",
    "import matplotlib.pyplot as plt"
   ]
  },
  {
   "cell_type": "code",
   "execution_count": 26,
   "id": "215e0149-7bac-45a9-9a6d-304b45b14beb",
   "metadata": {
    "tags": []
   },
   "outputs": [],
   "source": [
    "# Graphical options\n",
    "custom_params = {\"axes.spines.right\": False, \"axes.spines.top\": False}\n",
    "sns.set_theme(style=\"ticks\", rc=custom_params)"
   ]
  },
  {
   "cell_type": "markdown",
   "id": "4fc44b6c-fe78-4183-baf7-e63f305af571",
   "metadata": {},
   "source": [
    "## Data inspection"
   ]
  },
  {
   "cell_type": "markdown",
   "id": "a6334ace-f4d0-4d27-b070-5a455b9ca17a",
   "metadata": {},
   "source": [
    "First, we perform a data inspection, where we load the dataset and get basic information from it, such as the shape, the columns, the data types and summary statistics. The objetive of this stage is to get insights about the data before performing exploratory data analysis (EDA)."
   ]
  },
  {
   "cell_type": "markdown",
   "id": "678d2ac5-9d62-419c-b75b-e80ad23a2501",
   "metadata": {},
   "source": [
    "### General exploration"
   ]
  },
  {
   "cell_type": "code",
   "execution_count": 2,
   "id": "dc829644-ee5a-4703-a18e-0ac0e30ed80b",
   "metadata": {
    "tags": []
   },
   "outputs": [],
   "source": [
    "# Load dataset\n",
    "data = pd.read_csv(filepath_or_buffer=\"tiktok.csv\", index_col=0)"
   ]
  },
  {
   "cell_type": "code",
   "execution_count": 3,
   "id": "f561e022-6395-4c97-9bc6-8947330a9980",
   "metadata": {
    "tags": []
   },
   "outputs": [
    {
     "data": {
      "text/plain": [
       "(19382, 11)"
      ]
     },
     "execution_count": 3,
     "metadata": {},
     "output_type": "execute_result"
    }
   ],
   "source": [
    "# Get dataset shape\n",
    "data.shape"
   ]
  },
  {
   "cell_type": "code",
   "execution_count": 4,
   "id": "94da7653-e00c-4360-b93c-6fc59b5ea599",
   "metadata": {
    "tags": []
   },
   "outputs": [
    {
     "data": {
      "text/html": [
       "<div>\n",
       "<style scoped>\n",
       "    .dataframe tbody tr th:only-of-type {\n",
       "        vertical-align: middle;\n",
       "    }\n",
       "\n",
       "    .dataframe tbody tr th {\n",
       "        vertical-align: top;\n",
       "    }\n",
       "\n",
       "    .dataframe thead th {\n",
       "        text-align: right;\n",
       "    }\n",
       "</style>\n",
       "<table border=\"1\" class=\"dataframe\">\n",
       "  <thead>\n",
       "    <tr style=\"text-align: right;\">\n",
       "      <th></th>\n",
       "      <th>claim_status</th>\n",
       "      <th>video_id</th>\n",
       "      <th>video_duration_sec</th>\n",
       "      <th>video_transcription_text</th>\n",
       "      <th>verified_status</th>\n",
       "      <th>author_ban_status</th>\n",
       "      <th>video_view_count</th>\n",
       "      <th>video_like_count</th>\n",
       "      <th>video_share_count</th>\n",
       "      <th>video_download_count</th>\n",
       "      <th>video_comment_count</th>\n",
       "    </tr>\n",
       "    <tr>\n",
       "      <th>#</th>\n",
       "      <th></th>\n",
       "      <th></th>\n",
       "      <th></th>\n",
       "      <th></th>\n",
       "      <th></th>\n",
       "      <th></th>\n",
       "      <th></th>\n",
       "      <th></th>\n",
       "      <th></th>\n",
       "      <th></th>\n",
       "      <th></th>\n",
       "    </tr>\n",
       "  </thead>\n",
       "  <tbody>\n",
       "    <tr>\n",
       "      <th>1</th>\n",
       "      <td>claim</td>\n",
       "      <td>7017666017</td>\n",
       "      <td>59</td>\n",
       "      <td>someone shared with me that drone deliveries a...</td>\n",
       "      <td>not verified</td>\n",
       "      <td>under review</td>\n",
       "      <td>343296.0</td>\n",
       "      <td>19425.0</td>\n",
       "      <td>241.0</td>\n",
       "      <td>1.0</td>\n",
       "      <td>0.0</td>\n",
       "    </tr>\n",
       "    <tr>\n",
       "      <th>2</th>\n",
       "      <td>claim</td>\n",
       "      <td>4014381136</td>\n",
       "      <td>32</td>\n",
       "      <td>someone shared with me that there are more mic...</td>\n",
       "      <td>not verified</td>\n",
       "      <td>active</td>\n",
       "      <td>140877.0</td>\n",
       "      <td>77355.0</td>\n",
       "      <td>19034.0</td>\n",
       "      <td>1161.0</td>\n",
       "      <td>684.0</td>\n",
       "    </tr>\n",
       "    <tr>\n",
       "      <th>3</th>\n",
       "      <td>claim</td>\n",
       "      <td>9859838091</td>\n",
       "      <td>31</td>\n",
       "      <td>someone shared with me that american industria...</td>\n",
       "      <td>not verified</td>\n",
       "      <td>active</td>\n",
       "      <td>902185.0</td>\n",
       "      <td>97690.0</td>\n",
       "      <td>2858.0</td>\n",
       "      <td>833.0</td>\n",
       "      <td>329.0</td>\n",
       "    </tr>\n",
       "    <tr>\n",
       "      <th>4</th>\n",
       "      <td>claim</td>\n",
       "      <td>1866847991</td>\n",
       "      <td>25</td>\n",
       "      <td>someone shared with me that the metro of st. p...</td>\n",
       "      <td>not verified</td>\n",
       "      <td>active</td>\n",
       "      <td>437506.0</td>\n",
       "      <td>239954.0</td>\n",
       "      <td>34812.0</td>\n",
       "      <td>1234.0</td>\n",
       "      <td>584.0</td>\n",
       "    </tr>\n",
       "    <tr>\n",
       "      <th>5</th>\n",
       "      <td>claim</td>\n",
       "      <td>7105231098</td>\n",
       "      <td>19</td>\n",
       "      <td>someone shared with me that the number of busi...</td>\n",
       "      <td>not verified</td>\n",
       "      <td>active</td>\n",
       "      <td>56167.0</td>\n",
       "      <td>34987.0</td>\n",
       "      <td>4110.0</td>\n",
       "      <td>547.0</td>\n",
       "      <td>152.0</td>\n",
       "    </tr>\n",
       "  </tbody>\n",
       "</table>\n",
       "</div>"
      ],
      "text/plain": [
       "  claim_status    video_id  video_duration_sec  \\\n",
       "#                                                \n",
       "1        claim  7017666017                  59   \n",
       "2        claim  4014381136                  32   \n",
       "3        claim  9859838091                  31   \n",
       "4        claim  1866847991                  25   \n",
       "5        claim  7105231098                  19   \n",
       "\n",
       "                            video_transcription_text verified_status  \\\n",
       "#                                                                      \n",
       "1  someone shared with me that drone deliveries a...    not verified   \n",
       "2  someone shared with me that there are more mic...    not verified   \n",
       "3  someone shared with me that american industria...    not verified   \n",
       "4  someone shared with me that the metro of st. p...    not verified   \n",
       "5  someone shared with me that the number of busi...    not verified   \n",
       "\n",
       "  author_ban_status  video_view_count  video_like_count  video_share_count  \\\n",
       "#                                                                            \n",
       "1      under review          343296.0           19425.0              241.0   \n",
       "2            active          140877.0           77355.0            19034.0   \n",
       "3            active          902185.0           97690.0             2858.0   \n",
       "4            active          437506.0          239954.0            34812.0   \n",
       "5            active           56167.0           34987.0             4110.0   \n",
       "\n",
       "   video_download_count  video_comment_count  \n",
       "#                                             \n",
       "1                   1.0                  0.0  \n",
       "2                1161.0                684.0  \n",
       "3                 833.0                329.0  \n",
       "4                1234.0                584.0  \n",
       "5                 547.0                152.0  "
      ]
     },
     "execution_count": 4,
     "metadata": {},
     "output_type": "execute_result"
    }
   ],
   "source": [
    "# Inspect dataset\n",
    "data.head(n=5)"
   ]
  },
  {
   "cell_type": "markdown",
   "id": "94b6824e-465b-40de-8f0f-c499ea185b99",
   "metadata": {},
   "source": [
    "**The dataset stores 11 features (columns) regarding a sample of 19382 videos (rows).** The columns hold the following information:\n",
    "- *claim_status* - label of associated to the video (claim or opinion).\n",
    "- *video_id* - numerical id for the video.\n",
    "- *video_duration_sec* - video duration in seconds.\n",
    "- *video_transcription_text* - video transcription.\n",
    "- *verified_status* - verification status of the user who posted the video.\n",
    "- *author_ban_status* - ban status of the user who posted the video.\n",
    "- *video_view_count* - number of video views.\n",
    "- *video_like_count* - number of video likes.\n",
    "- *video_share_count* - number of video shares.\n",
    "- *video_download_count* - number of video downloads.\n",
    "- *video_comment_count* - number of video comments."
   ]
  },
  {
   "cell_type": "code",
   "execution_count": 5,
   "id": "1cb3f5ef-2765-429d-bcd5-672a243bfdb3",
   "metadata": {
    "tags": []
   },
   "outputs": [
    {
     "name": "stdout",
     "output_type": "stream",
     "text": [
      "<class 'pandas.core.frame.DataFrame'>\n",
      "Int64Index: 19382 entries, 1 to 19382\n",
      "Data columns (total 11 columns):\n",
      " #   Column                    Non-Null Count  Dtype  \n",
      "---  ------                    --------------  -----  \n",
      " 0   claim_status              19084 non-null  object \n",
      " 1   video_id                  19382 non-null  int64  \n",
      " 2   video_duration_sec        19382 non-null  int64  \n",
      " 3   video_transcription_text  19084 non-null  object \n",
      " 4   verified_status           19382 non-null  object \n",
      " 5   author_ban_status         19382 non-null  object \n",
      " 6   video_view_count          19084 non-null  float64\n",
      " 7   video_like_count          19084 non-null  float64\n",
      " 8   video_share_count         19084 non-null  float64\n",
      " 9   video_download_count      19084 non-null  float64\n",
      " 10  video_comment_count       19084 non-null  float64\n",
      "dtypes: float64(5), int64(2), object(4)\n",
      "memory usage: 1.8+ MB\n"
     ]
    }
   ],
   "source": [
    "# Explore data types\n",
    "data.info()"
   ]
  },
  {
   "cell_type": "markdown",
   "id": "cc4cd0ad-7d95-4f48-9887-862a73cbff61",
   "metadata": {},
   "source": [
    "From the summary above, we can extract two conclusions:\n",
    "\n",
    "- The columns which refer to engagement variables (views, likes, shares, downloads and comments), the video duration and the id are all numerical (int or float). The rest of the columns are objects (strings).\n",
    "\n",
    "- Since the number of rows in the dataset is 19382, the following columns **present null or missing values**:  claim_status, video_transcription_text, views, likes, shares, downloads and comments."
   ]
  },
  {
   "cell_type": "code",
   "execution_count": 6,
   "id": "ff3b1e47-2da8-4b6f-81ad-26db95c9d653",
   "metadata": {
    "tags": []
   },
   "outputs": [
    {
     "data": {
      "text/html": [
       "<div>\n",
       "<style scoped>\n",
       "    .dataframe tbody tr th:only-of-type {\n",
       "        vertical-align: middle;\n",
       "    }\n",
       "\n",
       "    .dataframe tbody tr th {\n",
       "        vertical-align: top;\n",
       "    }\n",
       "\n",
       "    .dataframe thead th {\n",
       "        text-align: right;\n",
       "    }\n",
       "</style>\n",
       "<table border=\"1\" class=\"dataframe\">\n",
       "  <thead>\n",
       "    <tr style=\"text-align: right;\">\n",
       "      <th></th>\n",
       "      <th>video_id</th>\n",
       "      <th>video_duration_sec</th>\n",
       "      <th>video_view_count</th>\n",
       "      <th>video_like_count</th>\n",
       "      <th>video_share_count</th>\n",
       "      <th>video_download_count</th>\n",
       "      <th>video_comment_count</th>\n",
       "    </tr>\n",
       "  </thead>\n",
       "  <tbody>\n",
       "    <tr>\n",
       "      <th>count</th>\n",
       "      <td>1.938200e+04</td>\n",
       "      <td>19382.000000</td>\n",
       "      <td>19084.000000</td>\n",
       "      <td>19084.000000</td>\n",
       "      <td>19084.000000</td>\n",
       "      <td>19084.000000</td>\n",
       "      <td>19084.000000</td>\n",
       "    </tr>\n",
       "    <tr>\n",
       "      <th>mean</th>\n",
       "      <td>5.627454e+09</td>\n",
       "      <td>32.421732</td>\n",
       "      <td>254708.558688</td>\n",
       "      <td>84304.636030</td>\n",
       "      <td>16735.248323</td>\n",
       "      <td>1049.429627</td>\n",
       "      <td>349.312146</td>\n",
       "    </tr>\n",
       "    <tr>\n",
       "      <th>std</th>\n",
       "      <td>2.536440e+09</td>\n",
       "      <td>16.229967</td>\n",
       "      <td>322893.280814</td>\n",
       "      <td>133420.546814</td>\n",
       "      <td>32036.174350</td>\n",
       "      <td>2004.299894</td>\n",
       "      <td>799.638865</td>\n",
       "    </tr>\n",
       "    <tr>\n",
       "      <th>min</th>\n",
       "      <td>1.234959e+09</td>\n",
       "      <td>5.000000</td>\n",
       "      <td>20.000000</td>\n",
       "      <td>0.000000</td>\n",
       "      <td>0.000000</td>\n",
       "      <td>0.000000</td>\n",
       "      <td>0.000000</td>\n",
       "    </tr>\n",
       "    <tr>\n",
       "      <th>25%</th>\n",
       "      <td>3.430417e+09</td>\n",
       "      <td>18.000000</td>\n",
       "      <td>4942.500000</td>\n",
       "      <td>810.750000</td>\n",
       "      <td>115.000000</td>\n",
       "      <td>7.000000</td>\n",
       "      <td>1.000000</td>\n",
       "    </tr>\n",
       "    <tr>\n",
       "      <th>50%</th>\n",
       "      <td>5.618664e+09</td>\n",
       "      <td>32.000000</td>\n",
       "      <td>9954.500000</td>\n",
       "      <td>3403.500000</td>\n",
       "      <td>717.000000</td>\n",
       "      <td>46.000000</td>\n",
       "      <td>9.000000</td>\n",
       "    </tr>\n",
       "    <tr>\n",
       "      <th>75%</th>\n",
       "      <td>7.843960e+09</td>\n",
       "      <td>47.000000</td>\n",
       "      <td>504327.000000</td>\n",
       "      <td>125020.000000</td>\n",
       "      <td>18222.000000</td>\n",
       "      <td>1156.250000</td>\n",
       "      <td>292.000000</td>\n",
       "    </tr>\n",
       "    <tr>\n",
       "      <th>max</th>\n",
       "      <td>9.999873e+09</td>\n",
       "      <td>60.000000</td>\n",
       "      <td>999817.000000</td>\n",
       "      <td>657830.000000</td>\n",
       "      <td>256130.000000</td>\n",
       "      <td>14994.000000</td>\n",
       "      <td>9599.000000</td>\n",
       "    </tr>\n",
       "  </tbody>\n",
       "</table>\n",
       "</div>"
      ],
      "text/plain": [
       "           video_id  video_duration_sec  video_view_count  video_like_count  \\\n",
       "count  1.938200e+04        19382.000000      19084.000000      19084.000000   \n",
       "mean   5.627454e+09           32.421732     254708.558688      84304.636030   \n",
       "std    2.536440e+09           16.229967     322893.280814     133420.546814   \n",
       "min    1.234959e+09            5.000000         20.000000          0.000000   \n",
       "25%    3.430417e+09           18.000000       4942.500000        810.750000   \n",
       "50%    5.618664e+09           32.000000       9954.500000       3403.500000   \n",
       "75%    7.843960e+09           47.000000     504327.000000     125020.000000   \n",
       "max    9.999873e+09           60.000000     999817.000000     657830.000000   \n",
       "\n",
       "       video_share_count  video_download_count  video_comment_count  \n",
       "count       19084.000000          19084.000000         19084.000000  \n",
       "mean        16735.248323           1049.429627           349.312146  \n",
       "std         32036.174350           2004.299894           799.638865  \n",
       "min             0.000000              0.000000             0.000000  \n",
       "25%           115.000000              7.000000             1.000000  \n",
       "50%           717.000000             46.000000             9.000000  \n",
       "75%         18222.000000           1156.250000           292.000000  \n",
       "max        256130.000000          14994.000000          9599.000000  "
      ]
     },
     "execution_count": 6,
     "metadata": {},
     "output_type": "execute_result"
    }
   ],
   "source": [
    "# Print a summary of descriptive statistics\n",
    "data.describe()"
   ]
  },
  {
   "cell_type": "markdown",
   "id": "e93bdc03-7bd0-41e4-825e-4f3970736abb",
   "metadata": {},
   "source": [
    "The statistical summary suggests **there may be a number of outliers** in certain columns since their max and min values are much higher and smaller than their mean (i.e. the mean like count is ~84304, while the min and max values in its distribution are 0 and 657839, respectively)."
   ]
  },
  {
   "cell_type": "markdown",
   "id": "d19a0342-41ed-4f74-89b5-c4a8de6822d1",
   "metadata": {},
   "source": [
    "### Target variable\n",
    "Next, since claim_status is the target variable (the column we will try to predict using a machine learning model), let us explore the balance of the dataset (the number of rows which corresponds to each possible value of this column)."
   ]
  },
  {
   "cell_type": "code",
   "execution_count": 7,
   "id": "a5a8f73a-b8be-45b4-974e-c3b8e6d99640",
   "metadata": {
    "tags": []
   },
   "outputs": [
    {
     "data": {
      "text/html": [
       "<div>\n",
       "<style scoped>\n",
       "    .dataframe tbody tr th:only-of-type {\n",
       "        vertical-align: middle;\n",
       "    }\n",
       "\n",
       "    .dataframe tbody tr th {\n",
       "        vertical-align: top;\n",
       "    }\n",
       "\n",
       "    .dataframe thead th {\n",
       "        text-align: right;\n",
       "    }\n",
       "</style>\n",
       "<table border=\"1\" class=\"dataframe\">\n",
       "  <thead>\n",
       "    <tr style=\"text-align: right;\">\n",
       "      <th></th>\n",
       "      <th>claim_status</th>\n",
       "    </tr>\n",
       "  </thead>\n",
       "  <tbody>\n",
       "    <tr>\n",
       "      <th>claim</th>\n",
       "      <td>9608</td>\n",
       "    </tr>\n",
       "    <tr>\n",
       "      <th>opinion</th>\n",
       "      <td>9476</td>\n",
       "    </tr>\n",
       "  </tbody>\n",
       "</table>\n",
       "</div>"
      ],
      "text/plain": [
       "         claim_status\n",
       "claim            9608\n",
       "opinion          9476"
      ]
     },
     "execution_count": 7,
     "metadata": {},
     "output_type": "execute_result"
    }
   ],
   "source": [
    "# Inspect dataset balance\n",
    "pd.DataFrame(data['claim_status'].value_counts())"
   ]
  },
  {
   "cell_type": "markdown",
   "id": "db8c16e0-9c24-4bd7-bdd1-845724ceef13",
   "metadata": {},
   "source": [
    "The dataset is very balanced, since the two classes have a similar number of samples:\n",
    "- **claims**: 9608 videos.\n",
    "- **opinions**: 9476 videos."
   ]
  },
  {
   "cell_type": "markdown",
   "id": "b8021b83-6f49-4c97-82a7-3839a49102a8",
   "metadata": {},
   "source": [
    "### Engagement variables\n",
    "<a id='engagement-variables'></a>"
   ]
  },
  {
   "cell_type": "markdown",
   "id": "bd2a7c6f-7ba4-4634-b99f-f5f12775b09e",
   "metadata": {},
   "source": [
    "Now, let us explore the central tendency metrics of the engagement variables."
   ]
  },
  {
   "cell_type": "code",
   "execution_count": 29,
   "id": "e5ce9102-4a00-41d7-942b-7bd03e60a808",
   "metadata": {
    "tags": []
   },
   "outputs": [],
   "source": [
    "# Get engagement column names\n",
    "cols_engagement = ['video_' + x + '_count' for x in ['view', 'like', 'share', 'download', 'comment']]"
   ]
  },
  {
   "cell_type": "markdown",
   "id": "e573d8d6-4905-4758-a59a-c4aefd893469",
   "metadata": {},
   "source": [
    "First, explore the engagement variables for the two types of videos: claims and opinions."
   ]
  },
  {
   "cell_type": "code",
   "execution_count": 9,
   "id": "fd01f4df-b877-4b70-99e9-e0a6260a7148",
   "metadata": {},
   "outputs": [
    {
     "data": {
      "text/html": [
       "<div>\n",
       "<style scoped>\n",
       "    .dataframe tbody tr th:only-of-type {\n",
       "        vertical-align: middle;\n",
       "    }\n",
       "\n",
       "    .dataframe tbody tr th {\n",
       "        vertical-align: top;\n",
       "    }\n",
       "\n",
       "    .dataframe thead tr th {\n",
       "        text-align: left;\n",
       "    }\n",
       "\n",
       "    .dataframe thead tr:last-of-type th {\n",
       "        text-align: right;\n",
       "    }\n",
       "</style>\n",
       "<table border=\"1\" class=\"dataframe\">\n",
       "  <thead>\n",
       "    <tr>\n",
       "      <th></th>\n",
       "      <th colspan=\"2\" halign=\"left\">video_view_count</th>\n",
       "      <th colspan=\"2\" halign=\"left\">video_like_count</th>\n",
       "      <th colspan=\"2\" halign=\"left\">video_share_count</th>\n",
       "      <th colspan=\"2\" halign=\"left\">video_comment_count</th>\n",
       "      <th colspan=\"2\" halign=\"left\">video_download_count</th>\n",
       "    </tr>\n",
       "    <tr>\n",
       "      <th></th>\n",
       "      <th>mean</th>\n",
       "      <th>median</th>\n",
       "      <th>mean</th>\n",
       "      <th>median</th>\n",
       "      <th>mean</th>\n",
       "      <th>median</th>\n",
       "      <th>mean</th>\n",
       "      <th>median</th>\n",
       "      <th>mean</th>\n",
       "      <th>median</th>\n",
       "    </tr>\n",
       "    <tr>\n",
       "      <th>claim_status</th>\n",
       "      <th></th>\n",
       "      <th></th>\n",
       "      <th></th>\n",
       "      <th></th>\n",
       "      <th></th>\n",
       "      <th></th>\n",
       "      <th></th>\n",
       "      <th></th>\n",
       "      <th></th>\n",
       "      <th></th>\n",
       "    </tr>\n",
       "  </thead>\n",
       "  <tbody>\n",
       "    <tr>\n",
       "      <th>claim</th>\n",
       "      <td>501029.452748</td>\n",
       "      <td>501555.0</td>\n",
       "      <td>166373.331182</td>\n",
       "      <td>123649.0</td>\n",
       "      <td>33026.416216</td>\n",
       "      <td>17997.5</td>\n",
       "      <td>691.164863</td>\n",
       "      <td>286.0</td>\n",
       "      <td>2070.952227</td>\n",
       "      <td>1139.5</td>\n",
       "    </tr>\n",
       "    <tr>\n",
       "      <th>opinion</th>\n",
       "      <td>4956.432250</td>\n",
       "      <td>4953.0</td>\n",
       "      <td>1092.729844</td>\n",
       "      <td>823.0</td>\n",
       "      <td>217.145631</td>\n",
       "      <td>121.0</td>\n",
       "      <td>2.697446</td>\n",
       "      <td>1.0</td>\n",
       "      <td>13.677290</td>\n",
       "      <td>7.0</td>\n",
       "    </tr>\n",
       "  </tbody>\n",
       "</table>\n",
       "</div>"
      ],
      "text/plain": [
       "             video_view_count           video_like_count            \\\n",
       "                         mean    median             mean    median   \n",
       "claim_status                                                         \n",
       "claim           501029.452748  501555.0    166373.331182  123649.0   \n",
       "opinion           4956.432250    4953.0      1092.729844     823.0   \n",
       "\n",
       "             video_share_count          video_comment_count         \\\n",
       "                          mean   median                mean median   \n",
       "claim_status                                                         \n",
       "claim             33026.416216  17997.5          691.164863  286.0   \n",
       "opinion             217.145631    121.0            2.697446    1.0   \n",
       "\n",
       "             video_download_count          \n",
       "                             mean  median  \n",
       "claim_status                               \n",
       "claim                 2070.952227  1139.5  \n",
       "opinion                 13.677290     7.0  "
      ]
     },
     "execution_count": 9,
     "metadata": {},
     "output_type": "execute_result"
    }
   ],
   "source": [
    "# Group data by claim status\n",
    "data.groupby(['claim_status']).agg({\n",
    "    'video_view_count'    : ['mean', 'median'],\n",
    "    'video_like_count'    : ['mean', 'median'],\n",
    "    'video_share_count'   : ['mean', 'median'],\n",
    "    'video_comment_count' : ['mean', 'median'],\n",
    "    'video_download_count': ['mean', 'median']\n",
    "})"
   ]
  },
  {
   "cell_type": "markdown",
   "id": "daf9f5ef-2de1-4f83-90f7-b68bd63e7a60",
   "metadata": {},
   "source": [
    "The central tendency metrics displayed above suggest that the **videos labeled as claims have much more engagement compared to those labeled as opinions** (i.e. the mean view count for claims is ~501029 and for opinions is 4956, which is 100 times more)."
   ]
  },
  {
   "cell_type": "markdown",
   "id": "78b73034-78d5-4a5d-a704-f23b3f2268b2",
   "metadata": {},
   "source": [
    "Subsequently, explore the engagement variables for the different types of user statuses."
   ]
  },
  {
   "cell_type": "code",
   "execution_count": 10,
   "id": "f82553eb-bc89-412b-a6cd-d7938eb27266",
   "metadata": {
    "tags": []
   },
   "outputs": [
    {
     "data": {
      "text/html": [
       "<div>\n",
       "<style scoped>\n",
       "    .dataframe tbody tr th:only-of-type {\n",
       "        vertical-align: middle;\n",
       "    }\n",
       "\n",
       "    .dataframe tbody tr th {\n",
       "        vertical-align: top;\n",
       "    }\n",
       "\n",
       "    .dataframe thead tr th {\n",
       "        text-align: left;\n",
       "    }\n",
       "\n",
       "    .dataframe thead tr:last-of-type th {\n",
       "        text-align: right;\n",
       "    }\n",
       "</style>\n",
       "<table border=\"1\" class=\"dataframe\">\n",
       "  <thead>\n",
       "    <tr>\n",
       "      <th></th>\n",
       "      <th colspan=\"2\" halign=\"left\">video_view_count</th>\n",
       "      <th colspan=\"2\" halign=\"left\">video_like_count</th>\n",
       "      <th colspan=\"2\" halign=\"left\">video_share_count</th>\n",
       "      <th colspan=\"2\" halign=\"left\">video_comment_count</th>\n",
       "      <th colspan=\"2\" halign=\"left\">video_download_count</th>\n",
       "    </tr>\n",
       "    <tr>\n",
       "      <th></th>\n",
       "      <th>mean</th>\n",
       "      <th>median</th>\n",
       "      <th>mean</th>\n",
       "      <th>median</th>\n",
       "      <th>mean</th>\n",
       "      <th>median</th>\n",
       "      <th>mean</th>\n",
       "      <th>median</th>\n",
       "      <th>mean</th>\n",
       "      <th>median</th>\n",
       "    </tr>\n",
       "    <tr>\n",
       "      <th>author_ban_status</th>\n",
       "      <th></th>\n",
       "      <th></th>\n",
       "      <th></th>\n",
       "      <th></th>\n",
       "      <th></th>\n",
       "      <th></th>\n",
       "      <th></th>\n",
       "      <th></th>\n",
       "      <th></th>\n",
       "      <th></th>\n",
       "    </tr>\n",
       "  </thead>\n",
       "  <tbody>\n",
       "    <tr>\n",
       "      <th>active</th>\n",
       "      <td>215927.039524</td>\n",
       "      <td>8616.0</td>\n",
       "      <td>71036.533836</td>\n",
       "      <td>2222.0</td>\n",
       "      <td>14111.466164</td>\n",
       "      <td>437.0</td>\n",
       "      <td>295.134499</td>\n",
       "      <td>5.0</td>\n",
       "      <td>882.276344</td>\n",
       "      <td>28.0</td>\n",
       "    </tr>\n",
       "    <tr>\n",
       "      <th>banned</th>\n",
       "      <td>445845.439144</td>\n",
       "      <td>448201.0</td>\n",
       "      <td>153017.236697</td>\n",
       "      <td>105573.0</td>\n",
       "      <td>29998.942508</td>\n",
       "      <td>14468.0</td>\n",
       "      <td>614.956575</td>\n",
       "      <td>209.0</td>\n",
       "      <td>1886.296024</td>\n",
       "      <td>892.0</td>\n",
       "    </tr>\n",
       "    <tr>\n",
       "      <th>under review</th>\n",
       "      <td>392204.836399</td>\n",
       "      <td>365245.5</td>\n",
       "      <td>128718.050339</td>\n",
       "      <td>71204.5</td>\n",
       "      <td>25774.696999</td>\n",
       "      <td>9444.0</td>\n",
       "      <td>542.480639</td>\n",
       "      <td>136.5</td>\n",
       "      <td>1631.734753</td>\n",
       "      <td>610.5</td>\n",
       "    </tr>\n",
       "  </tbody>\n",
       "</table>\n",
       "</div>"
      ],
      "text/plain": [
       "                  video_view_count           video_like_count            \\\n",
       "                              mean    median             mean    median   \n",
       "author_ban_status                                                         \n",
       "active               215927.039524    8616.0     71036.533836    2222.0   \n",
       "banned               445845.439144  448201.0    153017.236697  105573.0   \n",
       "under review         392204.836399  365245.5    128718.050339   71204.5   \n",
       "\n",
       "                  video_share_count          video_comment_count         \\\n",
       "                               mean   median                mean median   \n",
       "author_ban_status                                                         \n",
       "active                 14111.466164    437.0          295.134499    5.0   \n",
       "banned                 29998.942508  14468.0          614.956575  209.0   \n",
       "under review           25774.696999   9444.0          542.480639  136.5   \n",
       "\n",
       "                  video_download_count         \n",
       "                                  mean median  \n",
       "author_ban_status                              \n",
       "active                      882.276344   28.0  \n",
       "banned                     1886.296024  892.0  \n",
       "under review               1631.734753  610.5  "
      ]
     },
     "execution_count": 10,
     "metadata": {},
     "output_type": "execute_result"
    }
   ],
   "source": [
    "# Group data by user status\n",
    "data.groupby(['author_ban_status']).agg({\n",
    "    'video_view_count'    : ['mean', 'median'],\n",
    "    'video_like_count'    : ['mean', 'median'],\n",
    "    'video_share_count'   : ['mean', 'median'],\n",
    "    'video_comment_count' : ['mean', 'median'],\n",
    "    'video_download_count': ['mean', 'median']\n",
    "})"
   ]
  },
  {
   "cell_type": "markdown",
   "id": "48279de2-b4be-4309-ac25-4e908a61e7ae",
   "metadata": {},
   "source": [
    "The central tendency metrics displayed above suggest that the **videos from banned users have more engagement**, followed by those from under review users and active users."
   ]
  },
  {
   "cell_type": "markdown",
   "id": "4571acf7-cc66-494f-9a5e-eda2481a72ef",
   "metadata": {},
   "source": [
    "### New variables"
   ]
  },
  {
   "cell_type": "markdown",
   "id": "1e89989b-5451-48cc-9dc5-13ed0deda505",
   "metadata": {},
   "source": [
    "Here, we will create new variables by calculating the engagement variables per view. This will allow us to better interpret and compare engagement trends in the dataset."
   ]
  },
  {
   "cell_type": "code",
   "execution_count": 12,
   "id": "40a1cf74-55c3-49f2-ac42-a286d8b67338",
   "metadata": {
    "tags": []
   },
   "outputs": [],
   "source": [
    "# Calculate new engagement variables\n",
    "for metric in ['like', 'comment', 'share']:\n",
    "    col     = 'video_' + metric + '_count'\n",
    "    col_new = metric + 's_per_view'\n",
    "    data[col_new] = data[col] / data['video_view_count']"
   ]
  },
  {
   "cell_type": "markdown",
   "id": "77dfac86-9b2f-4dea-ac75-cbdb013b3905",
   "metadata": {},
   "source": [
    "After creating the new engagement variables, let us explore their central tendency metrics for the different types of videos and user statuses."
   ]
  },
  {
   "cell_type": "code",
   "execution_count": 13,
   "id": "fc74a695-6fe3-4409-8178-b41ca22c1b10",
   "metadata": {
    "tags": []
   },
   "outputs": [
    {
     "data": {
      "text/html": [
       "<div>\n",
       "<style scoped>\n",
       "    .dataframe tbody tr th:only-of-type {\n",
       "        vertical-align: middle;\n",
       "    }\n",
       "\n",
       "    .dataframe tbody tr th {\n",
       "        vertical-align: top;\n",
       "    }\n",
       "\n",
       "    .dataframe thead tr th {\n",
       "        text-align: left;\n",
       "    }\n",
       "\n",
       "    .dataframe thead tr:last-of-type th {\n",
       "        text-align: right;\n",
       "    }\n",
       "</style>\n",
       "<table border=\"1\" class=\"dataframe\">\n",
       "  <thead>\n",
       "    <tr>\n",
       "      <th></th>\n",
       "      <th></th>\n",
       "      <th colspan=\"2\" halign=\"left\">likes_per_view</th>\n",
       "      <th colspan=\"2\" halign=\"left\">comments_per_view</th>\n",
       "      <th colspan=\"2\" halign=\"left\">shares_per_view</th>\n",
       "    </tr>\n",
       "    <tr>\n",
       "      <th></th>\n",
       "      <th></th>\n",
       "      <th>mean</th>\n",
       "      <th>median</th>\n",
       "      <th>mean</th>\n",
       "      <th>median</th>\n",
       "      <th>mean</th>\n",
       "      <th>median</th>\n",
       "    </tr>\n",
       "    <tr>\n",
       "      <th>claim_status</th>\n",
       "      <th>author_ban_status</th>\n",
       "      <th></th>\n",
       "      <th></th>\n",
       "      <th></th>\n",
       "      <th></th>\n",
       "      <th></th>\n",
       "      <th></th>\n",
       "    </tr>\n",
       "  </thead>\n",
       "  <tbody>\n",
       "    <tr>\n",
       "      <th rowspan=\"3\" valign=\"top\">claim</th>\n",
       "      <th>active</th>\n",
       "      <td>0.329542</td>\n",
       "      <td>0.326538</td>\n",
       "      <td>0.001393</td>\n",
       "      <td>0.000776</td>\n",
       "      <td>0.065456</td>\n",
       "      <td>0.049279</td>\n",
       "    </tr>\n",
       "    <tr>\n",
       "      <th>banned</th>\n",
       "      <td>0.345071</td>\n",
       "      <td>0.358909</td>\n",
       "      <td>0.001377</td>\n",
       "      <td>0.000746</td>\n",
       "      <td>0.067893</td>\n",
       "      <td>0.051606</td>\n",
       "    </tr>\n",
       "    <tr>\n",
       "      <th>under review</th>\n",
       "      <td>0.327997</td>\n",
       "      <td>0.320867</td>\n",
       "      <td>0.001367</td>\n",
       "      <td>0.000789</td>\n",
       "      <td>0.065733</td>\n",
       "      <td>0.049967</td>\n",
       "    </tr>\n",
       "    <tr>\n",
       "      <th rowspan=\"3\" valign=\"top\">opinion</th>\n",
       "      <th>active</th>\n",
       "      <td>0.219744</td>\n",
       "      <td>0.218330</td>\n",
       "      <td>0.000517</td>\n",
       "      <td>0.000252</td>\n",
       "      <td>0.043729</td>\n",
       "      <td>0.032405</td>\n",
       "    </tr>\n",
       "    <tr>\n",
       "      <th>banned</th>\n",
       "      <td>0.206868</td>\n",
       "      <td>0.198483</td>\n",
       "      <td>0.000434</td>\n",
       "      <td>0.000193</td>\n",
       "      <td>0.040531</td>\n",
       "      <td>0.030728</td>\n",
       "    </tr>\n",
       "    <tr>\n",
       "      <th>under review</th>\n",
       "      <td>0.226394</td>\n",
       "      <td>0.228051</td>\n",
       "      <td>0.000536</td>\n",
       "      <td>0.000293</td>\n",
       "      <td>0.044472</td>\n",
       "      <td>0.035027</td>\n",
       "    </tr>\n",
       "  </tbody>\n",
       "</table>\n",
       "</div>"
      ],
      "text/plain": [
       "                               likes_per_view           comments_per_view  \\\n",
       "                                         mean    median              mean   \n",
       "claim_status author_ban_status                                              \n",
       "claim        active                  0.329542  0.326538          0.001393   \n",
       "             banned                  0.345071  0.358909          0.001377   \n",
       "             under review            0.327997  0.320867          0.001367   \n",
       "opinion      active                  0.219744  0.218330          0.000517   \n",
       "             banned                  0.206868  0.198483          0.000434   \n",
       "             under review            0.226394  0.228051          0.000536   \n",
       "\n",
       "                                         shares_per_view            \n",
       "                                  median            mean    median  \n",
       "claim_status author_ban_status                                      \n",
       "claim        active             0.000776        0.065456  0.049279  \n",
       "             banned             0.000746        0.067893  0.051606  \n",
       "             under review       0.000789        0.065733  0.049967  \n",
       "opinion      active             0.000252        0.043729  0.032405  \n",
       "             banned             0.000193        0.040531  0.030728  \n",
       "             under review       0.000293        0.044472  0.035027  "
      ]
     },
     "execution_count": 13,
     "metadata": {},
     "output_type": "execute_result"
    }
   ],
   "source": [
    "# Group new engagement variables by claim and author status\n",
    "data.groupby(['claim_status', 'author_ban_status']).agg({\n",
    "    'likes_per_view'   : ['mean', 'median'],\n",
    "    'comments_per_view': ['mean', 'median'],\n",
    "    'shares_per_view'  : ['mean', 'median']\n",
    "})"
   ]
  },
  {
   "cell_type": "markdown",
   "id": "bb4a0491-956d-49b1-a553-7e11a60bf850",
   "metadata": {},
   "source": [
    "From the data displayed above, we suggest the following **conclusions**:\n",
    "- Claim videos seem to have higher engagement for the three user statuses.\n",
    "- For claim videos, active and under review users seem to have less engagement than banned users.\n",
    "- For opinion videos, active and under review users seem to have more engagement than banned users."
   ]
  },
  {
   "cell_type": "markdown",
   "id": "afa2c92e-971a-4b01-a72e-4f4e6ca09e71",
   "metadata": {},
   "source": [
    "Finally, let us inspect the number of users types associated to the two video types."
   ]
  },
  {
   "cell_type": "code",
   "execution_count": 20,
   "id": "ab20471e-b0c1-442a-a808-8c3721da804f",
   "metadata": {
    "tags": []
   },
   "outputs": [
    {
     "data": {
      "text/html": [
       "<div>\n",
       "<style scoped>\n",
       "    .dataframe tbody tr th:only-of-type {\n",
       "        vertical-align: middle;\n",
       "    }\n",
       "\n",
       "    .dataframe tbody tr th {\n",
       "        vertical-align: top;\n",
       "    }\n",
       "\n",
       "    .dataframe thead th {\n",
       "        text-align: right;\n",
       "    }\n",
       "</style>\n",
       "<table border=\"1\" class=\"dataframe\">\n",
       "  <thead>\n",
       "    <tr style=\"text-align: right;\">\n",
       "      <th></th>\n",
       "      <th>claim_status</th>\n",
       "      <th>author_ban_status</th>\n",
       "      <th>count</th>\n",
       "    </tr>\n",
       "  </thead>\n",
       "  <tbody>\n",
       "    <tr>\n",
       "      <th>0</th>\n",
       "      <td>claim</td>\n",
       "      <td>active</td>\n",
       "      <td>6566</td>\n",
       "    </tr>\n",
       "    <tr>\n",
       "      <th>1</th>\n",
       "      <td>claim</td>\n",
       "      <td>banned</td>\n",
       "      <td>1439</td>\n",
       "    </tr>\n",
       "    <tr>\n",
       "      <th>2</th>\n",
       "      <td>claim</td>\n",
       "      <td>under review</td>\n",
       "      <td>1603</td>\n",
       "    </tr>\n",
       "    <tr>\n",
       "      <th>3</th>\n",
       "      <td>opinion</td>\n",
       "      <td>active</td>\n",
       "      <td>8817</td>\n",
       "    </tr>\n",
       "    <tr>\n",
       "      <th>4</th>\n",
       "      <td>opinion</td>\n",
       "      <td>banned</td>\n",
       "      <td>196</td>\n",
       "    </tr>\n",
       "    <tr>\n",
       "      <th>5</th>\n",
       "      <td>opinion</td>\n",
       "      <td>under review</td>\n",
       "      <td>463</td>\n",
       "    </tr>\n",
       "  </tbody>\n",
       "</table>\n",
       "</div>"
      ],
      "text/plain": [
       "  claim_status author_ban_status  count\n",
       "0        claim            active   6566\n",
       "1        claim            banned   1439\n",
       "2        claim      under review   1603\n",
       "3      opinion            active   8817\n",
       "4      opinion            banned    196\n",
       "5      opinion      under review    463"
      ]
     },
     "execution_count": 20,
     "metadata": {},
     "output_type": "execute_result"
    }
   ],
   "source": [
    "# Count user types by video claim status\n",
    "data.groupby(['claim_status', 'author_ban_status'])['video_id'].count().reset_index().rename(columns={'video_id': 'count'})"
   ]
  },
  {
   "cell_type": "markdown",
   "id": "a6bf1a89-c8a3-48bb-b23b-9b4c7c9028b4",
   "metadata": {},
   "source": [
    "According to the data above, active users are evenly distributed among claims and opinions (6566 vs 8817), while **banned users are mainly grouped in the claim videos** (1439 vs 196). The distribution of the users under review ressembles the one for banned users (1603 vs 463)."
   ]
  },
  {
   "cell_type": "markdown",
   "id": "ff93bde1-74b5-40c1-a680-465dfb3fe31c",
   "metadata": {},
   "source": [
    "## Exploratory data analysis (EDA)"
   ]
  },
  {
   "cell_type": "markdown",
   "id": "a02cbc58-e247-4fda-ac27-1ff4ebba7325",
   "metadata": {},
   "source": [
    "EDA includes six steps (not all of them are always applicable, though). These steps are executed in the order needed for each specific project. Furthermore, some of the steps are often executed more than once.\n",
    "\n",
    "1. *Discovering* - check out the overall shape, size, and content of the dataset.\n",
    "2. *Cleaning* - check for outliers, missing data, and needs for conversions or transformations. \n",
    "3. *Structuring* -  structure the data in different time periods and segments to understand trends. \n",
    "4. *Joining* - add more data from other datasets.\n",
    "5. *Validating* - double check the changes you made are correct and accurate. \n",
    "6. *Presenting* - share your dataset with a peer. \n",
    "\n",
    "\n",
    "\n",
    "In the previous section, we performed a preliminary data inspection, which corresponds to the first step of EDA (*Discovering*). In this stage, we will apply other steps of the EDA to: fill the missing values in the dataset, explore the relationships between the variables (columns) and their distributions and perform statistical analyses."
   ]
  },
  {
   "cell_type": "markdown",
   "id": "28447ee1-82f9-42fc-b4cd-f89ca6b89cc8",
   "metadata": {},
   "source": [
    "### Distribution of engagement variables"
   ]
  },
  {
   "cell_type": "markdown",
   "id": "ff31462b-549b-44ce-afdb-648a09572023",
   "metadata": {},
   "source": [
    "First, we will explore the distribution of *video_duration_sec* to analyze the duration of the videos uploaded to the platform.\n"
   ]
  },
  {
   "cell_type": "code",
   "execution_count": 36,
   "id": "256c265a-542a-4262-bef1-503aaa8ca870",
   "metadata": {
    "tags": []
   },
   "outputs": [
    {
     "data": {
      "text/plain": [
       "<Axes: xlabel='video_duration_sec', ylabel='Count'>"
      ]
     },
     "execution_count": 36,
     "metadata": {},
     "output_type": "execute_result"
    },
    {
     "data": {
      "image/png": "[encoded data removed]",
      "text/plain": [
       "<Figure size 1500x300 with 2 Axes>"
      ]
     },
     "metadata": {},
     "output_type": "display_data"
    }
   ],
   "source": [
    "# Plot a boxplot and a histogram to explore the distribution of video_duration_sec\n",
    "fig, axes = plt.subplots(ncols=2, nrows=1, figsize=(15, 3))\n",
    "fig.suptitle(f'Distribution of video_duration_sec')\n",
    "sns.boxplot(data=data, x='video_duration_sec', ax=axes[0])\n",
    "sns.histplot(data=data, x='video_duration_sec', ax=axes[1])"
   ]
  },
  {
   "cell_type": "markdown",
   "id": "acdae009-25dc-4d11-bfca-053c427acec6",
   "metadata": {},
   "source": [
    "According to the plots above, **the distribution of the video duration is close to uniform**, with a median ~30 seconds and maximum and minimum values close or equal to 60 seconds and 0 seconds, respectively."
   ]
  },
  {
   "cell_type": "markdown",
   "id": "e5d8a36f-6645-443d-90f5-6b134b9e40c3",
   "metadata": {},
   "source": [
    "Next, we will explore the distributions of the engagement variables using the same kind of plots."
   ]
  },
  {
   "cell_type": "code",
   "execution_count": 37,
   "id": "f885a819-6683-4e5e-86e3-96b496321dab",
   "metadata": {
    "tags": []
   },
   "outputs": [
    {
     "data": {
      "image/png": "[encoded data removed]",
      "text/plain": [
       "<Figure size 1500x300 with 2 Axes>"
      ]
     },
     "metadata": {},
     "output_type": "display_data"
    },
    {
     "data": {
      "image/png": "[encoded data removed]",
      "text/plain": [
       "<Figure size 1500x300 with 2 Axes>"
      ]
     },
     "metadata": {},
     "output_type": "display_data"
    },
    {
     "data": {
      "image/png": "[encoded data removed]",
      "text/plain": [
       "<Figure size 1500x300 with 2 Axes>"
      ]
     },
     "metadata": {},
     "output_type": "display_data"
    },
    {
     "data": {
      "image/png": "[encoded data removed]",
      "text/plain": [
       "<Figure size 1500x300 with 2 Axes>"
      ]
     },
     "metadata": {},
     "output_type": "display_data"
    },
    {
     "data": {
      "image/png": "[encoded data removed]",
      "text/plain": [
       "<Figure size 1500x300 with 2 Axes>"
      ]
     },
     "metadata": {},
     "output_type": "display_data"
    }
   ],
   "source": [
    "# Plot a boxplot and a histogram to explore the distribution of the engagement variables\n",
    "for col in cols_engagement:\n",
    "    fig, axes = plt.subplots(ncols=2, nrows=1, figsize=(15, 3))\n",
    "    fig.suptitle(f'Distribution of {col}')\n",
    "    sns.boxplot(data=data, x=col, ax=axes[0])\n",
    "    sns.histplot(data=data, x=col, bins=20, ax=axes[1])"
   ]
  },
  {
   "cell_type": "markdown",
   "id": "7e4878c0-e155-4c66-a76d-e73535360729",
   "metadata": {},
   "source": [
    "Considering the histograms shown in the right column, the distributions of the engagement variables are all skewed to the right, with most datapoints grouped around a reduced value for all the engagement variables. Then, from the lower to a higher values of the variables, the distribution is uniform.\n",
    "\n",
    "This means **most part of the videos show a reduced engagement level (views, likes, comments, etc.) while a reduced group of videos shows a extremely high engagement level (viral videos)**. This is also notable from the boxplots displayed in the left column, where the number of outliers to the right of the distribution is easily noticeable. "
   ]
  },
  {
   "cell_type": "markdown",
   "id": "be39136c-938d-4d34-98dc-1032c160c740",
   "metadata": {},
   "source": [
    "### Count of verified and ban statuses by claim status"
   ]
  },
  {
   "cell_type": "markdown",
   "id": "e32ad1cb-6324-4faa-b6fb-5a6be576547e",
   "metadata": {},
   "source": [
    "Here, let us calculate the count of claim and opinion videos with respect to:\n",
    "- the verification status of the videos (*verified_status*).\n",
    "- the author ban status (*author_ban_status*)."
   ]
  },
  {
   "cell_type": "code",
   "execution_count": 44,
   "id": "4880e0eb-28f8-45d9-944a-8b8fb983c9c5",
   "metadata": {
    "tags": []
   },
   "outputs": [
    {
     "data": {
      "image/png": "[encoded data removed]",
      "text/plain": [
       "<Figure size 1500x500 with 2 Axes>"
      ]
     },
     "metadata": {},
     "output_type": "display_data"
    }
   ],
   "source": [
    "# Select the variables to explore\n",
    "cols = ['verified_status', 'author_ban_status']\n",
    "\n",
    "# Create figures\n",
    "fig, axes = plt.subplots(nrows=1, ncols=2, figsize=(15, 5))\n",
    "for col, axs in zip(cols, axes):\n",
    "    axs.set_title(f'{col} status by claim_status')\n",
    "    sns.histplot(data=data, x='claim_status', hue=col, multiple='dodge', ax=axs)"
   ]
  },
  {
   "cell_type": "markdown",
   "id": "16cecf68-3c5c-4d58-8032-9278a420abec",
   "metadata": {},
   "source": [
    "From the left plot we can derive two conclusions:\n",
    "1. **There are many more not verified than verified users** for both kinds of videos (claims and opinions).\n",
    "2. **When the users are verified, they tend to post many more opinion videos** than claim videos.\n",
    "\n",
    "From the right plot we can derive another two conclusions:\n",
    "1. Users **banned and under review seem to post more claim videos** than opinions.\n",
    "2. **Active users seem to post both claims and opinions**, being opinions a bit more common than claims."
   ]
  },
  {
   "cell_type": "markdown",
   "id": "36148066-844b-45c9-838f-bc1063e1b8fd",
   "metadata": {},
   "source": [
    "### Median view counts by ban status"
   ]
  },
  {
   "cell_type": "markdown",
   "id": "bfc90d22-88e2-4352-8ecb-10d1079153e7",
   "metadata": {},
   "source": [
    "In this subsection, we group the data by ban status and plot the median video view count per group."
   ]
  },
  {
   "cell_type": "code",
   "execution_count": 62,
   "id": "0825eb10-f73b-4f4c-bbaa-6815b482999c",
   "metadata": {
    "tags": []
   },
   "outputs": [
    {
     "data": {
      "text/plain": [
       "<Axes: xlabel='author_ban_status', ylabel='median_view_count'>"
      ]
     },
     "execution_count": 62,
     "metadata": {},
     "output_type": "execute_result"
    },
    {
     "data": {
      "image/png": "[encoded data removed]",
      "text/plain": [
       "<Figure size 1000x500 with 1 Axes>"
      ]
     },
     "metadata": {},
     "output_type": "display_data"
    }
   ],
   "source": [
    "# Group data by ban status\n",
    "data_by_ban = data.groupby('author_ban_status').median(numeric_only=True)['video_view_count']\n",
    "data_by_ban = data_by_ban.reset_index()\n",
    "data_by_ban = data_by_ban.rename(columns={'video_view_count': 'median_view_count'})\n",
    "\n",
    "# Create bar plot\n",
    "plt.figure(figsize=(10, 5))\n",
    "sns.barplot(data=data_by_ban, x='author_ban_status', y='median_view_count', order=['active', 'under review', 'banned'])"
   ]
  },
  {
   "cell_type": "markdown",
   "id": "adcae620-c323-44b4-a9a6-5bd2c4f6319a",
   "metadata": {},
   "source": [
    "As pointed out in the subsection [Engagement variables](#engagement-variables), the median view count for under review and banned users is much higher compared to active users. Furthermore, since in the previous plot we discovered that active users are more likely to post opinions, we can hypothize that: videos with a high number of views are more likely to be claims. **Therefore, the view count may be indicative of the claim status**."
   ]
  },
  {
   "cell_type": "markdown",
   "id": "dbd6d306-4664-44ee-98e6-a3507b3e98da",
   "metadata": {},
   "source": [
    "### Detect outliers\n",
    "\n",
    "When building predictive models, the presence of outliers can be problematic. For example, if you were trying to predict the view count of a particular video, videos with extremely high view counts might introduce bias to a model. Also, some outliers might indicate problems with how data was captured or recorded.\n",
    "\n",
    "The analysis performed so far indicates that a video's engagement level is strongly correlated with its claim status. There's no reason to believe that any of the values in the TikTok data are erroneously captured, and they align with expectation of how social media works: a very small proportion of videos get super high engagement levels. That's the nature of viral content.\n",
    "\n",
    "In this TikTok dataset, the values for the count variables are not normally distributed. They are heavily skewed to the right. One way of modifying the outlier threshold is by calculating the median value for each variable and then adding 1.5 * IQR. This results in a threshold that is, in this case, much lower than it would be if the 3rd quartile was used."
   ]
  },
  {
   "cell_type": "code",
   "execution_count": 67,
   "id": "e754263b-ccca-42c1-b6e4-983859f54730",
   "metadata": {
    "tags": []
   },
   "outputs": [
    {
     "name": "stdout",
     "output_type": "stream",
     "text": [
      "# Outliers for video_view_count: 2343 (12.28% of the samples)\n",
      "# Outliers for video_like_count: 3468 (18.17% of the samples)\n",
      "# Outliers for video_share_count: 3732 (19.56% of the samples)\n",
      "# Outliers for video_download_count: 3733 (19.56% of the samples)\n",
      "# Outliers for video_comment_count: 3882 (20.34% of the samples)\n"
     ]
    }
   ],
   "source": [
    "# Select engagement variables\n",
    "cols = ['video_' + metric + '_count' for metric in ['view', 'like', 'share', 'download', 'comment']]\n",
    "\n",
    "# Estimate the number of outliers per variable\n",
    "for col in cols:\n",
    "    iqr    = data[col].quantile(0.75) - data[col].quantile(0.25)\n",
    "    median = data[col].median()\n",
    "    thr    = median + 1.5 * iqr\n",
    "    outlier_percent = round(sum(data[col] > thr) / sum(~data[col].isna()) * 100, 2)\n",
    "    print(f'# Outliers for {col}: {sum(data[col] > thr)} ({outlier_percent}% of the samples)')"
   ]
  },
  {
   "cell_type": "markdown",
   "id": "cc64a1ac-0a0d-43c4-aa38-229b40a24b18",
   "metadata": {},
   "source": [
    "For the engagement variables, **the outliers represent ~20% of the total number of samples.**"
   ]
  }
 ],
 "metadata": {
  "kernelspec": {
   "display_name": "Python 3 (ipykernel)",
   "language": "python",
   "name": "python3"
  },
  "language_info": {
   "codemirror_mode": {
    "name": "ipython",
    "version": 3
   },
   "file_extension": ".py",
   "mimetype": "text/x-python",
   "name": "python",
   "nbconvert_exporter": "python",
   "pygments_lexer": "ipython3",
   "version": "3.11.3"
  }
 },
 "nbformat": 4,
 "nbformat_minor": 5
}
